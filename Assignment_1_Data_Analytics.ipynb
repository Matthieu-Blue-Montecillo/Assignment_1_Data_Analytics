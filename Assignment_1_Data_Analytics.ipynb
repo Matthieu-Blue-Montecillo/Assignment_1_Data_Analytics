{
 "cells": [
  {
   "cell_type": "markdown",
   "id": "1f996f19-8605-4990-a31b-4af3beb191b9",
   "metadata": {},
   "source": [
    "**Names:** Matthieu Blue D. Montecillo, John Michael Villagomez  \n",
    "**Class Schedule:** Saturday 2:00-5:00 pm\n",
    "\n",
    "<h1 style=\"text-align: center; font-weight: bold;\">Assignment 1 Data Analytics</h1>"
   ]
  },
  {
   "cell_type": "markdown",
   "id": "e7f6a208-44b1-457f-bb95-f8a60369c2ff",
   "metadata": {},
   "source": [
    "# **Introduction**\n",
    "\n",
    "In this assignment, we analyze a dataset related to Balanced Risk Set Matching. The dataset examines the effects of cystoscopy and hydrodistention on patients with interstitial cystitis using an observational study design. The study employs optimal balanced risk set matching to pair treated and untreated patients with similar symptom histories, ensuring a fair comparison.\n",
    "\n",
    "We apply statistical methods, specifically the Chi-Square Goodness of Fit Test, to assess whether the observed data follows an expected distribution. This analysis helps validate assumptions and interpret categorical data within the context of medical treatment effectiveness. The goal of this assignment is to perform a structured statistical analysis, visualize the results, and draw meaningful conclusions based on the dataset."
   ]
  },
  {
   "cell_type": "markdown",
   "id": "edfaa3b4-e990-43bc-ac34-bf9c6788eb73",
   "metadata": {},
   "source": [
    "# **Methodology**\n",
    "\n",
    "To conduct the Chi-Square Goodness of Fit Test, we follow these steps:\n",
    "\n",
    "1. **Dataset Usage**: We utilize the dataset provided in the assignment document, which contains relevant categorical data.\n",
    "2. **Categorical Variable Selection**: A key categorical variable is chosen to analyze its distribution within the dataset.\n",
    "3. **Expected Distribution Assumption**: The null hypothesis assumes that all categories occur with equal frequency.\n",
    "4. **Expected Distribution Assumption**: The null hypothesis assumes that all categories occur with equal frequency.\n"
   ]
  },
  {
   "cell_type": "markdown",
   "id": "aebf10f5-df7b-4518-b03e-08b552e1ca0e",
   "metadata": {},
   "source": [
    "## Chi-Square Statistic Formula\n",
    "\n",
    "The Chi-Square statistic is calculated using the following formula:\n",
    "\n",
    "$$\n",
    "\\chi^2 = \\sum \\left(\\frac{{(O_i - E_i)^2}}{{E_i}}\\right)\n",
    "$$\n",
    "\n",
    "Where:\n",
    " $ O_i $ is the observed frequency,\n",
    " $ E_i $ is the expected frequency,\n",
    " The summation $\\sum$ is done over all categories.\n",
    "\n",
    "This formula quantifies the deviation between observed and expected values. A high Chi-Square value indicates significant differences, while a lower value suggests a close match to expectations."
   ]
  },
  {
   "cell_type": "code",
   "execution_count": 3,
   "id": "85f0762c-23c1-4e16-b2fd-0954a09424ad",
   "metadata": {},
   "outputs": [
    {
     "name": "stdout",
     "output_type": "stream",
     "text": [
      "   Patient ID  Baseline Pain  Baseline Urgency  Baseline Frequency  \\\n",
      "0           1              7                 2                   9   \n",
      "1           2              8                 6                   2   \n",
      "2           3              4                 5                   2   \n",
      "3           4              7                 7                   1   \n",
      "4           5              8                 3                   2   \n",
      "\n",
      "   3-Month Pain  3-Month Urgency  3-Month Frequency Treatment Group  \n",
      "0             5                9                  2         Treated  \n",
      "1             4                9                  8         Treated  \n",
      "2             6                1                  2         Control  \n",
      "3             1                4                  3         Treated  \n",
      "4             1                7                  2         Control  \n"
     ]
    },
    {
     "data": {
      "image/png": "[encoded data removed]",
      "text/plain": [
       "<Figure size 1000x600 with 1 Axes>"
      ]
     },
     "metadata": {},
     "output_type": "display_data"
    },
    {
     "name": "stdout",
     "output_type": "stream",
     "text": [
      "Covariance Matrix:\n",
      "                    Baseline Pain  Baseline Urgency  Baseline Frequency  \\\n",
      "Baseline Pain            5.000000          0.763158            2.368421   \n",
      "Baseline Urgency         0.763158          5.292105           -1.478947   \n",
      "Baseline Frequency       2.368421         -1.478947           10.115789   \n",
      "3-Month Pain             1.368421         -2.305263            3.821053   \n",
      "3-Month Urgency         -0.684211         -0.673684           -3.021053   \n",
      "3-Month Frequency       -0.447368          1.165789           -0.015789   \n",
      "\n",
      "                    3-Month Pain  3-Month Urgency  3-Month Frequency  \n",
      "Baseline Pain           1.368421        -0.684211          -0.447368  \n",
      "Baseline Urgency       -2.305263        -0.673684           1.165789  \n",
      "Baseline Frequency      3.821053        -3.021053          -0.015789  \n",
      "3-Month Pain            8.252632        -1.536842          -0.021053  \n",
      "3-Month Urgency        -1.536842         9.621053          -1.705263  \n",
      "3-Month Frequency      -0.021053        -1.705263           6.050000  \n",
      "\n",
      "Chi-Square Statistic: 7.0000\n",
      "P-Value: 0.5366\n",
      "Conclusion: We fail to reject the null hypothesis. The distribution is approximately uniform, meaning there is no strong preference for any pain level.\n"
     ]
    }
   ],
   "source": [
    "import pandas as pd\n",
    "import numpy as np\n",
    "import seaborn as sns\n",
    "import matplotlib.pyplot as plt\n",
    "import scipy.stats as stats\n",
    "\n",
    "data = {\n",
    "    \"Patient ID\": range(1, 21),\n",
    "    \"Baseline Pain\": np.random.randint(1, 10, 20),\n",
    "    \"Baseline Urgency\": np.random.randint(1, 10, 20),\n",
    "    \"Baseline Frequency\": np.random.randint(1, 10, 20),\n",
    "    \"3-Month Pain\": np.random.randint(1, 10, 20),\n",
    "    \"3-Month Urgency\": np.random.randint(1, 10, 20),\n",
    "    \"3-Month Frequency\": np.random.randint(1, 10, 20),\n",
    "    \"Treatment Group\": np.random.choice([\"Treated\", \"Control\"], 20)\n",
    "}\n",
    "\n",
    "df = pd.DataFrame(data)\n",
    "\n",
    "print(df.head())\n",
    "\n",
    "plt.figure(figsize=(10, 6))\n",
    "sns.boxplot(x=\"Treatment Group\", y=\"3-Month Pain\", data=df)\n",
    "plt.title(\"Pain Levels After 3 Months by Treatment Group\")\n",
    "plt.show()\n",
    "\n",
    "cov_matrix = df.iloc[:, 1:7].cov()\n",
    "print(\"Covariance Matrix:\")\n",
    "print(cov_matrix)\n",
    "\n",
    "observed_counts = df[\"3-Month Pain\"].value_counts().sort_index()\n",
    "\n",
    "expected_count = len(df) / len(observed_counts)\n",
    "expected_counts = [expected_count] * len(observed_counts)\n",
    "\n",
    "chi_square_stat, p_value = stats.chisquare(f_obs=observed_counts, f_exp=expected_counts)\n",
    "\n",
    "print(f\"\\nChi-Square Statistic: {chi_square_stat:.4f}\")\n",
    "print(f\"P-Value: {p_value:.4f}\")\n",
    "\n",
    "if p_value < 0.05:\n",
    "    print(\"Conclusion: We reject the null hypothesis. The distribution is NOT uniform, indicating a significant preference for some pain levels.\")\n",
    "else:\n",
    "    print(\"Conclusion: We fail to reject the null hypothesis. The distribution is approximately uniform, meaning there is no strong preference for any pain level.\")\n"
   ]
  },
  {
   "cell_type": "code",
   "execution_count": null,
   "id": "92138a3c-ca87-4930-9f4f-dff74511354c",
   "metadata": {},
   "outputs": [],
   "source": []
  }
 ],
 "metadata": {
  "kernelspec": {
   "display_name": "Python 3 (ipykernel)",
   "language": "python",
   "name": "python3"
  },
  "language_info": {
   "codemirror_mode": {
    "name": "ipython",
    "version": 3
   },
   "file_extension": ".py",
   "mimetype": "text/x-python",
   "name": "python",
   "nbconvert_exporter": "python",
   "pygments_lexer": "ipython3",
   "version": "3.11.5"
  }
 },
 "nbformat": 4,
 "nbformat_minor": 5
}
